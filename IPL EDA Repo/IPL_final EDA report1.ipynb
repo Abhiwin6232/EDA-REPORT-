{
 "cells": [
  {
   "cell_type": "code",
   "execution_count": 3,
   "metadata": {},
   "outputs": [],
   "source": [
    "import numpy as np\n",
    "import pandas as pd\n",
    "from pandas_profiling import ProfileReport\n"
   ]
  },
  {
   "cell_type": "code",
   "execution_count": 5,
   "metadata": {},
   "outputs": [
    {
     "data": {
      "text/html": [
       "<div>\n",
       "<style scoped>\n",
       "    .dataframe tbody tr th:only-of-type {\n",
       "        vertical-align: middle;\n",
       "    }\n",
       "\n",
       "    .dataframe tbody tr th {\n",
       "        vertical-align: top;\n",
       "    }\n",
       "\n",
       "    .dataframe thead th {\n",
       "        text-align: right;\n",
       "    }\n",
       "</style>\n",
       "<table border=\"1\" class=\"dataframe\">\n",
       "  <thead>\n",
       "    <tr style=\"text-align: right;\">\n",
       "      <th></th>\n",
       "      <th>Unnamed: 0</th>\n",
       "      <th>Unnamed: 0.1</th>\n",
       "      <th>Team1</th>\n",
       "      <th>Team2</th>\n",
       "      <th>Date</th>\n",
       "      <th>Year</th>\n",
       "      <th>Time</th>\n",
       "      <th>Place</th>\n",
       "      <th>Toss</th>\n",
       "      <th>TossDecision</th>\n",
       "      <th>Result</th>\n",
       "      <th>Tied</th>\n",
       "      <th>won_runs</th>\n",
       "      <th>won_wickets</th>\n",
       "    </tr>\n",
       "  </thead>\n",
       "  <tbody>\n",
       "    <tr>\n",
       "      <th>0</th>\n",
       "      <td>0</td>\n",
       "      <td>0</td>\n",
       "      <td>ROYAL CHALLENGERS BANGALORE</td>\n",
       "      <td>KOLKATA KNIGHT RIDERS</td>\n",
       "      <td>Apr 18, Fri</td>\n",
       "      <td>2008</td>\n",
       "      <td>02:30 PM GMT / 08:00 PM LOCAL</td>\n",
       "      <td>M.Chinnaswamy Stadium, Bengaluru</td>\n",
       "      <td>Royal Challengers Bangalore</td>\n",
       "      <td>bowl</td>\n",
       "      <td>Kolkata Knight Riders won by 140 runs</td>\n",
       "      <td>NaN</td>\n",
       "      <td>140 runs</td>\n",
       "      <td>NaN</td>\n",
       "    </tr>\n",
       "    <tr>\n",
       "      <th>1</th>\n",
       "      <td>1</td>\n",
       "      <td>1</td>\n",
       "      <td>KINGS XI PUNJAB</td>\n",
       "      <td>CHENNAI SUPER KINGS</td>\n",
       "      <td>Apr 19, Sat</td>\n",
       "      <td>2008</td>\n",
       "      <td>11:30 AM GMT / 05:00 PM LOCAL</td>\n",
       "      <td>Punjab Cricket Association IS Bindra Stadium, ...</td>\n",
       "      <td>Chennai Super Kings</td>\n",
       "      <td>bat</td>\n",
       "      <td>Chennai Super Kings won by 33 runs</td>\n",
       "      <td>NaN</td>\n",
       "      <td>33 runs</td>\n",
       "      <td>NaN</td>\n",
       "    </tr>\n",
       "    <tr>\n",
       "      <th>2</th>\n",
       "      <td>2</td>\n",
       "      <td>2</td>\n",
       "      <td>DELHI CAPITALS</td>\n",
       "      <td>RAJASTHAN ROYALS</td>\n",
       "      <td>Apr 19, Sat</td>\n",
       "      <td>2008</td>\n",
       "      <td>03:00 PM GMT / 08:30 PM LOCAL</td>\n",
       "      <td>Arun Jaitley Stadium, Delhi</td>\n",
       "      <td>Rajasthan Royals</td>\n",
       "      <td>bat</td>\n",
       "      <td>Delhi Daredevils won by 9 wickets (with 29 bal...</td>\n",
       "      <td>NaN</td>\n",
       "      <td>NaN</td>\n",
       "      <td>9 wickets (with 29 balls remaining)</td>\n",
       "    </tr>\n",
       "    <tr>\n",
       "      <th>3</th>\n",
       "      <td>3</td>\n",
       "      <td>3</td>\n",
       "      <td>KOLKATA KNIGHT RIDERS</td>\n",
       "      <td>DECCAN CHARGERS</td>\n",
       "      <td>Apr 20, Sun</td>\n",
       "      <td>2008</td>\n",
       "      <td>10:30 AM GMT / 04:00 PM LOCAL</td>\n",
       "      <td>Eden Gardens, Kolkata</td>\n",
       "      <td>Deccan Chargers</td>\n",
       "      <td>bat</td>\n",
       "      <td>Kolkata Knight Riders won by 5 wickets (with 6...</td>\n",
       "      <td>NaN</td>\n",
       "      <td>NaN</td>\n",
       "      <td>5 wickets (with 6 balls remaining)</td>\n",
       "    </tr>\n",
       "    <tr>\n",
       "      <th>4</th>\n",
       "      <td>4</td>\n",
       "      <td>4</td>\n",
       "      <td>MUMBAI INDIANS</td>\n",
       "      <td>ROYAL CHALLENGERS BANGALORE</td>\n",
       "      <td>Apr 20, Sun</td>\n",
       "      <td>2008</td>\n",
       "      <td>02:30 PM GMT / 08:00 PM LOCAL</td>\n",
       "      <td>Wankhede Stadium, Mumbai</td>\n",
       "      <td>Mumbai Indians</td>\n",
       "      <td>bat</td>\n",
       "      <td>Royal Challengers Bangalore won by 5 wickets (...</td>\n",
       "      <td>NaN</td>\n",
       "      <td>NaN</td>\n",
       "      <td>5 wickets (with 2 balls remaining)</td>\n",
       "    </tr>\n",
       "  </tbody>\n",
       "</table>\n",
       "</div>"
      ],
      "text/plain": [
       "   Unnamed: 0  Unnamed: 0.1                         Team1  \\\n",
       "0           0             0  ROYAL CHALLENGERS BANGALORE    \n",
       "1           1             1              KINGS XI PUNJAB    \n",
       "2           2             2               DELHI CAPITALS    \n",
       "3           3             3        KOLKATA KNIGHT RIDERS    \n",
       "4           4             4               MUMBAI INDIANS    \n",
       "\n",
       "                          Team2         Date  Year  \\\n",
       "0         KOLKATA KNIGHT RIDERS  Apr 18, Fri  2008   \n",
       "1           CHENNAI SUPER KINGS  Apr 19, Sat  2008   \n",
       "2              RAJASTHAN ROYALS  Apr 19, Sat  2008   \n",
       "3               DECCAN CHARGERS  Apr 20, Sun  2008   \n",
       "4   ROYAL CHALLENGERS BANGALORE  Apr 20, Sun  2008   \n",
       "\n",
       "                            Time  \\\n",
       "0  02:30 PM GMT / 08:00 PM LOCAL   \n",
       "1  11:30 AM GMT / 05:00 PM LOCAL   \n",
       "2  03:00 PM GMT / 08:30 PM LOCAL   \n",
       "3  10:30 AM GMT / 04:00 PM LOCAL   \n",
       "4  02:30 PM GMT / 08:00 PM LOCAL   \n",
       "\n",
       "                                               Place  \\\n",
       "0                   M.Chinnaswamy Stadium, Bengaluru   \n",
       "1  Punjab Cricket Association IS Bindra Stadium, ...   \n",
       "2                        Arun Jaitley Stadium, Delhi   \n",
       "3                              Eden Gardens, Kolkata   \n",
       "4                           Wankhede Stadium, Mumbai   \n",
       "\n",
       "                            Toss TossDecision  \\\n",
       "0  Royal Challengers Bangalore           bowl   \n",
       "1          Chennai Super Kings            bat   \n",
       "2             Rajasthan Royals            bat   \n",
       "3              Deccan Chargers            bat   \n",
       "4               Mumbai Indians            bat   \n",
       "\n",
       "                                              Result Tied   won_runs  \\\n",
       "0              Kolkata Knight Riders won by 140 runs  NaN   140 runs   \n",
       "1                 Chennai Super Kings won by 33 runs  NaN    33 runs   \n",
       "2  Delhi Daredevils won by 9 wickets (with 29 bal...  NaN        NaN   \n",
       "3  Kolkata Knight Riders won by 5 wickets (with 6...  NaN        NaN   \n",
       "4  Royal Challengers Bangalore won by 5 wickets (...  NaN        NaN   \n",
       "\n",
       "                            won_wickets  \n",
       "0                                   NaN  \n",
       "1                                   NaN  \n",
       "2   9 wickets (with 29 balls remaining)  \n",
       "3    5 wickets (with 6 balls remaining)  \n",
       "4    5 wickets (with 2 balls remaining)  "
      ]
     },
     "execution_count": 5,
     "metadata": {},
     "output_type": "execute_result"
    }
   ],
   "source": [
    "data1=pd.read_csv('C:/Users/HP/Documents/csv file/IPL_final.csv')\n",
    "data1.head()"
   ]
  },
  {
   "cell_type": "code",
   "execution_count": 6,
   "metadata": {},
   "outputs": [],
   "source": [
    "profile=ProfileReport(data1)"
   ]
  },
  {
   "cell_type": "code",
   "execution_count": 14,
   "metadata": {},
   "outputs": [
    {
     "data": {
      "application/vnd.jupyter.widget-view+json": {
       "model_id": "",
       "version_major": 2,
       "version_minor": 0
      },
      "text/plain": [
       "HBox(children=(HTML(value='Render widgets'), FloatProgress(value=0.0, max=1.0), HTML(value='')))"
      ]
     },
     "metadata": {},
     "output_type": "display_data"
    },
    {
     "data": {
      "application/vnd.jupyter.widget-view+json": {
       "model_id": "d0f25df6ca28455181610e282396b479",
       "version_major": 2,
       "version_minor": 0
      },
      "text/plain": [
       "VBox(children=(Tab(children=(Tab(children=(GridBox(children=(VBox(children=(GridspecLayout(children=(HTML(valu…"
      ]
     },
     "metadata": {},
     "output_type": "display_data"
    }
   ],
   "source": [
    "profile.to_widgets()"
   ]
  },
  {
   "cell_type": "code",
   "execution_count": null,
   "metadata": {},
   "outputs": [],
   "source": []
  }
 ],
 "metadata": {
  "kernelspec": {
   "display_name": "Python 3",
   "language": "python",
   "name": "python3"
  },
  "language_info": {
   "codemirror_mode": {
    "name": "ipython",
    "version": 3
   },
   "file_extension": ".py",
   "mimetype": "text/x-python",
   "name": "python",
   "nbconvert_exporter": "python",
   "pygments_lexer": "ipython3",
   "version": "3.8.5"
  }
 },
 "nbformat": 4,
 "nbformat_minor": 4
}
